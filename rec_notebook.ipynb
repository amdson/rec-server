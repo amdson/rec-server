{
 "cells": [
  {
   "cell_type": "code",
   "execution_count": 59,
   "metadata": {},
   "outputs": [],
   "source": [
    "import torch\n",
    "import torch.nn as nn\n",
    "import torch.nn.functional as F\n",
    "import torch.optim as optim\n",
    "import numpy as np\n",
    "import random\n",
    "import math\n",
    "import time\n",
    "import matplotlib.pyplot as plt\n",
    "from torch.utils.data import Dataset, DataLoader\n",
    "import pandas as pd"
   ]
  },
  {
   "cell_type": "code",
   "execution_count": 60,
   "metadata": {},
   "outputs": [],
   "source": [
    "def biased_agg(ratings):\n",
    "    return (ratings.sum() + 3.5) / (len(ratings) + 3.5)\n",
    "\n",
    "ratings = pd.read_csv('rating_archive/ratings_small.csv')\n",
    "user_avg = ratings.groupby('userId', as_index=False)['rating'].agg(biased_agg)\n",
    "movie_avg = ratings.groupby('movieId', as_index=False)['rating'].agg(biased_agg)\n",
    "user_avg.columns = ['userId', 'user_avg']\n",
    "movie_avg.columns = ['movieId', 'movie_avg']\n",
    "user_cnt = ratings.groupby('userId', as_index=False)['rating'].count()\n",
    "user_cnt.columns = ['userId', 'user_cnt']"
   ]
  },
  {
   "cell_type": "code",
   "execution_count": 61,
   "metadata": {},
   "outputs": [],
   "source": [
    "avg_est = ratings.merge(movie_avg, on='movieId', how='left')\n",
    "avg_est = avg_est[['userId', 'movieId', 'rating', 'movie_avg']]\n",
    "avg_est.columns = ['userId', 'movieId', 'rating', 'rating_est']"
   ]
  },
  {
   "cell_type": "code",
   "execution_count": 107,
   "metadata": {},
   "outputs": [
    {
     "name": "stdout",
     "output_type": "stream",
     "text": [
      "0.0\n"
     ]
    }
   ],
   "source": [
    "print(user_percentile_diff([1, 2, 3, 4, 5, 6, 7], [1, 2, 3, 4, 5, 6, 7]))"
   ]
  },
  {
   "cell_type": "code",
   "execution_count": 62,
   "metadata": {},
   "outputs": [],
   "source": [
    "def user_percentile_diff(user_ratings, user_est):   \n",
    "    user_ranking = np.argsort(user_ratings)\n",
    "    est_ranking = np.argsort(user_est)\n",
    "    ranking_diff = np.abs(user_ranking - est_ranking)\n",
    "    perc_diff = (ranking_diff / len(user_ratings)).mean()\n",
    "    return perc_diff\n",
    "\n",
    "# r = [1, 2, 3, 4, 5]\n",
    "# r_est = [2, 1, 3, 6, 5]\n",
    "# print(user_percentile_diff(r, r_est))\n",
    "\n",
    "# user_perc_diff = avg_est.groupby('userId', as_index=False).apply(lambda x: user_percentile_diff(x['rating'], x['rating_est']))\n",
    "# print(user_perc_diff.iloc[:, 1].mean())\n",
    "\n",
    "def mean_percentile_diff(pred_mat):\n",
    "    user_perc_diff = pred_mat.groupby('userId', as_index=False).apply(lambda x: user_percentile_diff(x['rating'], x['rating_est']))\n",
    "    return user_perc_diff.iloc[:, 1].mean()"
   ]
  },
  {
   "cell_type": "code",
   "execution_count": 108,
   "metadata": {},
   "outputs": [],
   "source": [
    "row_shuffle = np.arange(len(ratings))\n",
    "np.random.shuffle(row_shuffle)\n",
    "train_ratings = ratings.iloc[row_shuffle[:len(ratings)*5 // 6]]\n",
    "test_ratings = ratings.iloc[row_shuffle[len(ratings)*5 // 6:]]"
   ]
  },
  {
   "cell_type": "code",
   "execution_count": 109,
   "metadata": {},
   "outputs": [],
   "source": [
    "class RatingDataset(Dataset):\n",
    "    def __init__(self, ratings):\n",
    "        super().__init__()\n",
    "        self.ratings = ratings[['userId', 'movieId', 'rating']]\n",
    "    \n",
    "    def __len__(self):\n",
    "        return len(self.ratings)\n",
    "    \n",
    "    def __getitem__(self, idx):\n",
    "        rind = torch.LongTensor(self.ratings.iloc[idx, :2].values)\n",
    "        rval = torch.FloatTensor(self.ratings.iloc[idx, 2:].values)\n",
    "        return rind, rval"
   ]
  },
  {
   "cell_type": "code",
   "execution_count": 110,
   "metadata": {},
   "outputs": [],
   "source": [
    "user_ids = ratings['userId'].unique()\n",
    "movie_ids = ratings['movieId'].unique()\n",
    "MAX_USER, MAX_MOVIE = max(user_ids), max(movie_ids)"
   ]
  },
  {
   "cell_type": "code",
   "execution_count": 123,
   "metadata": {},
   "outputs": [],
   "source": [
    "class LRMat(nn.Module):\n",
    "    def __init__(self, num_users, num_movies, rank=4):\n",
    "        super().__init__()\n",
    "        self.user_emb = nn.Parameter(torch.normal(torch.zeros(num_users, rank), 1/np.sqrt(rank)))\n",
    "        self.user_bias = nn.Parameter(torch.zeros((num_users,))+3.5)\n",
    "        self.movie_emb = nn.Parameter(torch.normal(torch.zeros(num_movies, rank), 1/np.sqrt(rank)))\n",
    "        self.user_sigmoid = nn.Parameter(torch.ones(num_users))\n",
    "\n",
    "    def forward(self, user_id, movie_id):\n",
    "        sig_mult = self.user_sigmoid[user_id]\n",
    "        return (sig_mult*torch.sigmoid((self.user_emb[user_id] * self.movie_emb[movie_id]).sum(dim=1))\n",
    "                + self.user_bias[user_id]\n",
    "                ).reshape(-1, 1)\n",
    "\n",
    "lr_mat = LRMat(MAX_USER+1, MAX_MOVIE+1, rank=4)"
   ]
  },
  {
   "cell_type": "code",
   "execution_count": 124,
   "metadata": {},
   "outputs": [],
   "source": [
    "train_ratings_ds = RatingDataset(train_ratings)\n",
    "train_ratings_dl = DataLoader(train_ratings_ds, batch_size=4096, shuffle=True)\n",
    "\n",
    "test_ratings_ds = RatingDataset(test_ratings)\n",
    "test_ratings_dl = DataLoader(test_ratings_ds, batch_size=4096, shuffle=True)"
   ]
  },
  {
   "cell_type": "code",
   "execution_count": 130,
   "metadata": {},
   "outputs": [
    {
     "name": "stdout",
     "output_type": "stream",
     "text": [
      "0.592835179397038\n",
      "0.5822281383332752\n",
      "0.5721745519410997\n",
      "0.5661666677111671\n",
      "0.5590193158104306\n",
      "0.5525707829566229\n",
      "0.5479350742839632\n",
      "0.5447905716441926\n",
      "0.5376668685958499\n",
      "0.5342695344062078\n",
      "0.5296319552830288\n",
      "0.523982489392871\n",
      "0.5212271071615673\n",
      "0.5187831478459495\n",
      "0.5152136428015572\n",
      "0.5117603299163637\n",
      "0.5079910840306964\n",
      "0.506066871540887\n",
      "0.5047323746340615\n",
      "0.5006305036090669\n",
      "0.4985495408376058\n",
      "0.49576135192598614\n",
      "0.49437838934716727\n",
      "0.4929093278589703\n",
      "0.49176596601804096\n"
     ]
    }
   ],
   "source": [
    "optimizer = optim.Adam(lr_mat.parameters(), lr=0.01)\n",
    "\n",
    "def train(lr_mat, optimizer, dl, epochs=10):\n",
    "    for epoch in range(epochs):\n",
    "        train_loss = 0\n",
    "        for rind, rval in dl:\n",
    "            optimizer.zero_grad()\n",
    "            pred = lr_mat(rind[:, 0], rind[:, 1])\n",
    "            loss = (F.mse_loss(pred, rval) \n",
    "                    + 0.01*torch.mean(torch.square(lr_mat.user_emb[rind[:, 0], :]))\n",
    "                    + 0.01*torch.mean(torch.square(lr_mat.movie_emb[rind[:, 1], :]))\n",
    "                    )\n",
    "            loss.backward()\n",
    "            optimizer.step()\n",
    "            train_loss += loss.item()\n",
    "        print(train_loss / len(dl))\n",
    "train(lr_mat, optimizer, train_ratings_dl, epochs=25)"
   ]
  },
  {
   "cell_type": "code",
   "execution_count": 131,
   "metadata": {},
   "outputs": [
    {
     "name": "stdout",
     "output_type": "stream",
     "text": [
      "(163950, 4) [221.64856 214.42903 211.24196 211.16878] (4, 4)\n"
     ]
    }
   ],
   "source": [
    "def PCA(X):\n",
    "    X -= X.mean(axis=0, keepdims=True)\n",
    "    U, S, V = np.linalg.svd(X, full_matrices=False)\n",
    "    print(U.shape, S, V.shape)\n",
    "    return U\n",
    "pca_ld = PCA(lr_mat.movie_emb.detach().numpy())[:, :2]"
   ]
  },
  {
   "cell_type": "code",
   "execution_count": 128,
   "metadata": {},
   "outputs": [],
   "source": [
    "import matplotlib.pyplot\n",
    "# plt.hist(lr_mat.user_bias.detach().numpy(), bins=55)\n",
    "# plt.show()\n",
    "\n",
    "# plt.scatter(pca_ld[:, 0], pca_ld[:, 1], s=2)\n",
    "# plt.show()"
   ]
  },
  {
   "cell_type": "code",
   "execution_count": 132,
   "metadata": {},
   "outputs": [
    {
     "name": "stdout",
     "output_type": "stream",
     "text": [
      "0.32425197340455303\n",
      "0.3236506247827002\n",
      "0.463552729342977\n",
      "1.1512247932659359\n"
     ]
    }
   ],
   "source": [
    "rid = torch.LongTensor(train_ratings[['userId', 'movieId']].values)\n",
    "lr_pred = lr_mat(rid[:, 0], rid[:, 1]).detach().numpy().flatten()\n",
    "\n",
    "lr_est = pd.DataFrame({'userId': train_ratings['userId'], 'movieId': train_ratings['movieId'], 'rating': train_ratings['rating'], 'rating_est': lr_pred})\n",
    "\n",
    "print(mean_percentile_diff(lr_est))\n",
    "print(mean_percentile_diff(avg_est))\n",
    "\n",
    "print(np.mean((lr_est['rating_est'] - lr_est['rating'])**2))\n",
    "print(np.mean((avg_est['rating_est'] - avg_est['rating'])**2))"
   ]
  },
  {
   "cell_type": "code",
   "execution_count": 133,
   "metadata": {},
   "outputs": [
    {
     "name": "stdout",
     "output_type": "stream",
     "text": [
      "0.31113743608622085\n",
      "0.3236506247827002\n",
      "0.9144257964594014\n",
      "1.1512247932659359\n"
     ]
    }
   ],
   "source": [
    "rid = torch.LongTensor(test_ratings[['userId', 'movieId']].values)\n",
    "lr_pred = lr_mat(rid[:, 0], rid[:, 1]).detach().numpy().flatten()\n",
    "\n",
    "lr_est = pd.DataFrame({'userId': test_ratings['userId'], 'movieId': test_ratings['movieId'], 'rating': test_ratings['rating'], 'rating_est': lr_pred})\n",
    "\n",
    "print(mean_percentile_diff(lr_est))\n",
    "print(mean_percentile_diff(avg_est))\n",
    "\n",
    "print(np.mean((lr_est['rating_est'] - lr_est['rating'])**2))\n",
    "print(np.mean((avg_est['rating_est'] - avg_est['rating'])**2))"
   ]
  },
  {
   "cell_type": "code",
   "execution_count": 134,
   "metadata": {},
   "outputs": [
    {
     "name": "stdout",
     "output_type": "stream",
     "text": [
      "0.058019466363077754 0.3193607552413445\n",
      "0.26395742511115117 0.5071496165149155\n",
      "0.7545763326105124 1.1121211604992467\n",
      "0.27247821562174274 0.7769999336064296\n",
      "0.18978811686477887 0.621338364749099\n",
      "0.2613436877166579 0.503707216921867\n",
      "0.6197152971836223 2.1183810922134465\n",
      "1.143551195529572 1.2999622021003043\n",
      "0.9781920595996212 0.889135934966136\n",
      "0.3122245970307726 0.6838220488002625\n"
     ]
    }
   ],
   "source": [
    "for i in range(100, 110):\n",
    "    a = lr_est[lr_est['userId'] == i]\n",
    "    e1 = np.mean((a['rating_est'] - a['rating'])**2)\n",
    "\n",
    "    a = avg_est[avg_est['userId'] == i]\n",
    "    e2 = np.mean((a['rating_est'] - a['rating'])**2)\n",
    "    print(e1, e2)"
   ]
  },
  {
   "cell_type": "code",
   "execution_count": 22,
   "metadata": {},
   "outputs": [
    {
     "name": "stdout",
     "output_type": "stream",
     "text": [
      "    userId  movieId  rating  rating_est\n",
      "20       2       10     4.0    3.769511\n",
      "21       2       17     5.0    3.507967\n",
      "22       2       39     5.0    3.689283\n",
      "23       2       47     4.0    3.451399\n",
      "24       2       50     4.0    3.491221\n",
      "..     ...      ...     ...         ...\n",
      "91       2      592     5.0    3.502338\n",
      "92       2      593     3.0    3.421246\n",
      "93       2      616     3.0    3.507885\n",
      "94       2      661     4.0    3.515223\n",
      "95       2      720     4.0    3.630857\n",
      "\n",
      "[76 rows x 4 columns] \n",
      "\n",
      "\n",
      "    userId  movieId  rating  rating_est\n",
      "20       2       10     4.0    3.382470\n",
      "21       2       17     5.0    3.810056\n",
      "22       2       39     5.0    3.477733\n",
      "23       2       47     4.0    3.982885\n",
      "24       2       50     4.0    4.312958\n",
      "..     ...      ...     ...         ...\n",
      "91       2      592     5.0    3.355890\n",
      "92       2      593     3.0    4.102439\n",
      "93       2      616     3.0    3.274725\n",
      "94       2      661     4.0    3.469027\n",
      "95       2      720     4.0    3.783505\n",
      "\n",
      "[76 rows x 4 columns]\n"
     ]
    }
   ],
   "source": [
    "print(lr_est[lr_est['userId'] == 2], '\\n\\n')\n",
    "print(avg_est[avg_est['userId'] == 2])"
   ]
  },
  {
   "cell_type": "code",
   "execution_count": null,
   "metadata": {},
   "outputs": [],
   "source": [
    "# ratings, ratings_est: dataframes with userid, movieid, and rating columns"
   ]
  },
  {
   "cell_type": "code",
   "execution_count": 34,
   "metadata": {},
   "outputs": [
    {
     "data": {
      "text/plain": [
       "(array([ 105.,  330.,  368., 1003., 1393.,  661.,  887.,  694.,  574.,\n",
       "         523.,  472.,  437.,  431.,  331.,  334.,  228.,  182.,   77.,\n",
       "          32.,    4.]),\n",
       " array([0.76923077, 0.95318576, 1.13714076, 1.32109576, 1.50505075,\n",
       "        1.68900575, 1.87296074, 2.05691574, 2.24087073, 2.42482573,\n",
       "        2.60878073, 2.79273572, 2.97669072, 3.16064571, 3.34460071,\n",
       "        3.52855571, 3.7125107 , 3.8964657 , 4.08042069, 4.26437569,\n",
       "        4.44833068]),\n",
       " <BarContainer object of 20 artists>)"
      ]
     },
     "execution_count": 34,
     "metadata": {},
     "output_type": "execute_result"
    },
    {
     "data": {
      "image/png": "[encoded data removed]",
      "text/plain": [
       "<Figure size 640x480 with 1 Axes>"
      ]
     },
     "metadata": {},
     "output_type": "display_data"
    }
   ],
   "source": [
    "plt.hist(movie_avg['movie_avg'], bins=20)"
   ]
  },
  {
   "cell_type": "code",
   "execution_count": 30,
   "metadata": {},
   "outputs": [
    {
     "name": "stderr",
     "output_type": "stream",
     "text": [
      "/tmp/ipykernel_4980/2584923186.py:1: DtypeWarning: Columns (10) have mixed types. Specify dtype option on import or set low_memory=False.\n",
      "  movies_metadata = pd.read_csv('rating_archive/movies_metadata.csv')\n"
     ]
    }
   ],
   "source": [
    "movies_metadata = pd.read_csv('rating_archive/movies_metadata.csv')\n",
    "movies_metadata = movies_metadata[['id', 'title', 'genres']]"
   ]
  },
  {
   "cell_type": "code",
   "execution_count": 31,
   "metadata": {},
   "outputs": [],
   "source": [
    "# Goal is to assign a score to each movie which correctly reproduces user rankings. Accuracy for scores is \n",
    "# based on the number of misranked movies for each user. "
   ]
  },
  {
   "cell_type": "code",
   "execution_count": 11,
   "metadata": {},
   "outputs": [
    {
     "data": {
      "image/png": "[encoded data removed]",
      "text/plain": [
       "<Figure size 640x480 with 1 Axes>"
      ]
     },
     "metadata": {},
     "output_type": "display_data"
    }
   ],
   "source": [
    "plt.hist(ratings['rating'], bins=np.linspace(0, 5, 11))\n",
    "plt.show()"
   ]
  },
  {
   "cell_type": "code",
   "execution_count": 16,
   "metadata": {},
   "outputs": [
    {
     "data": {
      "image/png": "[encoded data removed]",
      "text/plain": [
       "<Figure size 640x480 with 1 Axes>"
      ]
     },
     "metadata": {},
     "output_type": "display_data"
    }
   ],
   "source": [
    "plt.hist(user_avg['user_avg'], bins=50)\n",
    "plt.show()"
   ]
  }
 ],
 "metadata": {
  "kernelspec": {
   "display_name": "mrec",
   "language": "python",
   "name": "python3"
  },
  "language_info": {
   "codemirror_mode": {
    "name": "ipython",
    "version": 3
   },
   "file_extension": ".py",
   "mimetype": "text/x-python",
   "name": "python",
   "nbconvert_exporter": "python",
   "pygments_lexer": "ipython3",
   "version": "3.11.2"
  },
  "orig_nbformat": 4
 },
 "nbformat": 4,
 "nbformat_minor": 2
}
